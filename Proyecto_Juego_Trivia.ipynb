{
 "cells": [
  {
   "cell_type": "markdown",
   "id": "951ccb56",
   "metadata": {},
   "source": [
    "![](https://venezueladeayer.com/wp-content/uploads/2015/01/quien-quiere-ser-millonario-venezuela.jpg)"
   ]
  },
  {
   "cell_type": "code",
   "execution_count": 3,
   "id": "24c82505",
   "metadata": {
    "scrolled": true
   },
   "outputs": [],
   "source": [
    "from random import choice, shuffle\n",
    "\n",
    "def load_data():\n",
    "    questions = { 'easy':[], 'medium':[], 'hard':[] }\n",
    "    with open('questions.txt', 'r', encoding='utf-8') as f:\n",
    "        for l in f:\n",
    "            data = l[:-1].split('||')\n",
    "            questions[data[0]].append({ 'question':data[1], 'options': data[2:] })\n",
    "    print(questions.keys())\n",
    "    return questions\n",
    "\n",
    "def welcome():\n",
    "    return '''\n",
    "    Welcome to Trivia! You will be given 5 questions to show your knowledge!\n",
    "    Let's get started!!\n",
    "    \n",
    "    '''\n",
    "\n",
    "def choose_difficulty():\n",
    "    \"\"\"\n",
    "    Está función va a retornar uno de estos tres valores (easy, medium, hard)\n",
    "    \"\"\"\n",
    "    level = input('Choose your level? (easy, medium, hard)')\n",
    "    \n",
    "    if level in ('easy', 'medium', 'hard'):\n",
    "        return level\n",
    "    else:\n",
    "        return choose_difficulty()\n",
    "    \n",
    "def random_question(questions, level):\n",
    "    \"\"\"Retorna un diccionario con este formato\n",
    "     {'question': '???', 'options': ['a','b','c','d']},\n",
    "    \"\"\"\n",
    "    return choice(questions[level])\n",
    "\n",
    "def prepare_question(data):\n",
    "    \"\"\" entrada sera un diccionario\n",
    "     {'question': '???', 'options': ['a','b','c','d']},\n",
    "     ca a retorn un diccionario de este tipo\n",
    "     {'question': '???', 'options': {'a': '..', 'b': '..', 'c': '..', 'd': '..'}, 'correct': 'c'}\n",
    "    \"\"\"\n",
    "    \n",
    "    prepared_data = {'question': data['question'], 'options': {}}\n",
    "    \n",
    "    options = list(enumerate(data['options']))\n",
    "    shuffle(options)\n",
    "    \n",
    "    for idx, opt in zip(['A', 'B', 'C', 'D'], options):\n",
    "        prepared_data['options'][idx] = opt[1]\n",
    "        \n",
    "        if opt[0] == 0:\n",
    "            prepared_data['correct'] = idx\n",
    "    \n",
    "    return prepared_data\n",
    "    \n",
    "\n",
    "def display_question(no_question, data):\n",
    "    print(f'\\n\\n--------- Question # {no_question} ---------\\n\\n')\n",
    "    print(data['question'], end='\\n\\n')\n",
    "    \n",
    "    for idx, opt in data['options'].items():\n",
    "        print(f'[ {idx} ]: {opt}')\n",
    "    \n",
    "    \n",
    "def get_answer():\n",
    "    answer = input('What\\'s your answer? (A, B, C, D): ').upper()\n",
    "    if answer in ('A', 'B', 'C', 'D', 'Q'):\n",
    "        return answer\n",
    "    else:\n",
    "        return get_answer()\n",
    "\n",
    "\n",
    "def show_points(points):\n",
    "    print(f'\\n\\nCongratulatios, You got {points} points!!\\nYou did it awesome!!')\n",
    "    \n",
    "def play_game():\n",
    "    level = 'easy'\n",
    "    points = 0\n",
    "    rounds = 5\n",
    "    questions = load_data()\n",
    "    welcome()\n",
    "\n",
    "    level = choose_difficulty()\n",
    "\n",
    "    for no_round in range(1, rounds + 1):\n",
    "        question = random_question(level)\n",
    "        loaded_question = prepare_question(question)\n",
    "        display_question(no_round, loaded_question)\n",
    "\n",
    "        answer = get_answer()\n",
    "\n",
    "        if answer == 'Q':\n",
    "            break\n",
    "\n",
    "        elif answer == loaded_question['correct']:\n",
    "            print('\\nGreaaat!!!  you got the right answer!!! +1')\n",
    "            points += 1\n",
    "\n",
    "        else:\n",
    "            print('\\nWroooong!!!  good luck next time :/')\n",
    "\n",
    "    show_points(points)\n",
    "\n",
    "def play_again():\n",
    "    answer = input('Do you want to play again? (Y/N): ').upper()\n",
    "    if answer in ('Y', 'N'):\n",
    "        return answer == 'Y'\n",
    "    else:\n",
    "        return play_again()\n",
    "    "
   ]
  },
  {
   "cell_type": "code",
   "execution_count": 4,
   "id": "0dcac610",
   "metadata": {},
   "outputs": [
    {
     "name": "stdout",
     "output_type": "stream",
     "text": [
      "dict_keys(['easy', 'medium', 'hard'])\n",
      "Choose your level? (easy, medium, hard)medium\n"
     ]
    },
    {
     "ename": "NameError",
     "evalue": "name 'questions' is not defined",
     "output_type": "error",
     "traceback": [
      "\u001b[1;31m---------------------------------------------------------------------------\u001b[0m",
      "\u001b[1;31mNameError\u001b[0m                                 Traceback (most recent call last)",
      "\u001b[1;32m<ipython-input-4-7a3e638435b0>\u001b[0m in \u001b[0;36m<module>\u001b[1;34m\u001b[0m\n\u001b[0;32m      2\u001b[0m \u001b[1;33m\u001b[0m\u001b[0m\n\u001b[0;32m      3\u001b[0m \u001b[1;32mwhile\u001b[0m \u001b[0mkeep_playing\u001b[0m\u001b[1;33m:\u001b[0m\u001b[1;33m\u001b[0m\u001b[1;33m\u001b[0m\u001b[0m\n\u001b[1;32m----> 4\u001b[1;33m     \u001b[0mplay_game\u001b[0m\u001b[1;33m(\u001b[0m\u001b[1;33m)\u001b[0m\u001b[1;33m\u001b[0m\u001b[1;33m\u001b[0m\u001b[0m\n\u001b[0m\u001b[0;32m      5\u001b[0m     \u001b[0mkeep_playing\u001b[0m \u001b[1;33m=\u001b[0m \u001b[0mplay_again\u001b[0m\u001b[1;33m(\u001b[0m\u001b[1;33m)\u001b[0m\u001b[1;33m\u001b[0m\u001b[1;33m\u001b[0m\u001b[0m\n",
      "\u001b[1;32m<ipython-input-3-ddd88f9bb8f2>\u001b[0m in \u001b[0;36mplay_game\u001b[1;34m()\u001b[0m\n\u001b[0;32m     84\u001b[0m \u001b[1;33m\u001b[0m\u001b[0m\n\u001b[0;32m     85\u001b[0m     \u001b[1;32mfor\u001b[0m \u001b[0mno_round\u001b[0m \u001b[1;32min\u001b[0m \u001b[0mrange\u001b[0m\u001b[1;33m(\u001b[0m\u001b[1;36m1\u001b[0m\u001b[1;33m,\u001b[0m \u001b[0mrounds\u001b[0m \u001b[1;33m+\u001b[0m \u001b[1;36m1\u001b[0m\u001b[1;33m)\u001b[0m\u001b[1;33m:\u001b[0m\u001b[1;33m\u001b[0m\u001b[1;33m\u001b[0m\u001b[0m\n\u001b[1;32m---> 86\u001b[1;33m         \u001b[0mquestion\u001b[0m \u001b[1;33m=\u001b[0m \u001b[0mrandom_question\u001b[0m\u001b[1;33m(\u001b[0m\u001b[0mlevel\u001b[0m\u001b[1;33m)\u001b[0m\u001b[1;33m\u001b[0m\u001b[1;33m\u001b[0m\u001b[0m\n\u001b[0m\u001b[0;32m     87\u001b[0m         \u001b[0mloaded_question\u001b[0m \u001b[1;33m=\u001b[0m \u001b[0mprepare_question\u001b[0m\u001b[1;33m(\u001b[0m\u001b[0mquestion\u001b[0m\u001b[1;33m)\u001b[0m\u001b[1;33m\u001b[0m\u001b[1;33m\u001b[0m\u001b[0m\n\u001b[0;32m     88\u001b[0m         \u001b[0mdisplay_question\u001b[0m\u001b[1;33m(\u001b[0m\u001b[0mno_round\u001b[0m\u001b[1;33m,\u001b[0m \u001b[0mloaded_question\u001b[0m\u001b[1;33m)\u001b[0m\u001b[1;33m\u001b[0m\u001b[1;33m\u001b[0m\u001b[0m\n",
      "\u001b[1;32m<ipython-input-3-ddd88f9bb8f2>\u001b[0m in \u001b[0;36mrandom_question\u001b[1;34m(level)\u001b[0m\n\u001b[0;32m     32\u001b[0m      \u001b[1;33m{\u001b[0m\u001b[1;34m'question'\u001b[0m\u001b[1;33m:\u001b[0m \u001b[1;34m'???'\u001b[0m\u001b[1;33m,\u001b[0m \u001b[1;34m'options'\u001b[0m\u001b[1;33m:\u001b[0m \u001b[1;33m[\u001b[0m\u001b[1;34m'a'\u001b[0m\u001b[1;33m,\u001b[0m\u001b[1;34m'b'\u001b[0m\u001b[1;33m,\u001b[0m\u001b[1;34m'c'\u001b[0m\u001b[1;33m,\u001b[0m\u001b[1;34m'd'\u001b[0m\u001b[1;33m]\u001b[0m\u001b[1;33m}\u001b[0m\u001b[1;33m,\u001b[0m\u001b[1;33m\u001b[0m\u001b[1;33m\u001b[0m\u001b[0m\n\u001b[0;32m     33\u001b[0m     \"\"\"\n\u001b[1;32m---> 34\u001b[1;33m     \u001b[1;32mreturn\u001b[0m \u001b[0mchoice\u001b[0m\u001b[1;33m(\u001b[0m\u001b[0mquestions\u001b[0m\u001b[1;33m[\u001b[0m\u001b[0mlevel\u001b[0m\u001b[1;33m]\u001b[0m\u001b[1;33m)\u001b[0m\u001b[1;33m\u001b[0m\u001b[1;33m\u001b[0m\u001b[0m\n\u001b[0m\u001b[0;32m     35\u001b[0m \u001b[1;33m\u001b[0m\u001b[0m\n\u001b[0;32m     36\u001b[0m \u001b[1;32mdef\u001b[0m \u001b[0mprepare_question\u001b[0m\u001b[1;33m(\u001b[0m\u001b[0mdata\u001b[0m\u001b[1;33m)\u001b[0m\u001b[1;33m:\u001b[0m\u001b[1;33m\u001b[0m\u001b[1;33m\u001b[0m\u001b[0m\n",
      "\u001b[1;31mNameError\u001b[0m: name 'questions' is not defined"
     ]
    }
   ],
   "source": [
    "keep_playing = True\n",
    "\n",
    "while keep_playing:\n",
    "    play_game()\n",
    "    keep_playing = play_again()"
   ]
  },
  {
   "cell_type": "code",
   "execution_count": null,
   "id": "42ffc802",
   "metadata": {},
   "outputs": [],
   "source": []
  }
 ],
 "metadata": {
  "kernelspec": {
   "display_name": "Python 3",
   "language": "python",
   "name": "python3"
  },
  "language_info": {
   "codemirror_mode": {
    "name": "ipython",
    "version": 3
   },
   "file_extension": ".py",
   "mimetype": "text/x-python",
   "name": "python",
   "nbconvert_exporter": "python",
   "pygments_lexer": "ipython3",
   "version": "3.8.8"
  }
 },
 "nbformat": 4,
 "nbformat_minor": 5
}
