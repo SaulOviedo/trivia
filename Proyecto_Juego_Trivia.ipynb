{
 "cells": [
  {
   "cell_type": "code",
   "execution_count": 76,
   "id": "70660a90",
   "metadata": {},
   "outputs": [],
   "source": [
    "import pandas as pd\n",
    "from random import choice"
   ]
  },
  {
   "cell_type": "code",
   "execution_count": 77,
   "id": "80d15611",
   "metadata": {},
   "outputs": [],
   "source": [
    "df = pd.read_csv('questions.csv')"
   ]
  },
  {
   "cell_type": "code",
   "execution_count": 78,
   "id": "e35777bb",
   "metadata": {
    "scrolled": true
   },
   "outputs": [
    {
     "data": {
      "text/html": [
       "<div>\n",
       "<style scoped>\n",
       "    .dataframe tbody tr th:only-of-type {\n",
       "        vertical-align: middle;\n",
       "    }\n",
       "\n",
       "    .dataframe tbody tr th {\n",
       "        vertical-align: top;\n",
       "    }\n",
       "\n",
       "    .dataframe thead th {\n",
       "        text-align: right;\n",
       "    }\n",
       "</style>\n",
       "<table border=\"1\" class=\"dataframe\">\n",
       "  <thead>\n",
       "    <tr style=\"text-align: right;\">\n",
       "      <th></th>\n",
       "      <th>Unnamed: 0</th>\n",
       "      <th>category</th>\n",
       "      <th>type</th>\n",
       "      <th>difficulty</th>\n",
       "      <th>question</th>\n",
       "      <th>correct_answer</th>\n",
       "      <th>incorrect_answers</th>\n",
       "    </tr>\n",
       "  </thead>\n",
       "  <tbody>\n",
       "    <tr>\n",
       "      <th>0</th>\n",
       "      <td>0</td>\n",
       "      <td>General Knowledge</td>\n",
       "      <td>multiple</td>\n",
       "      <td>medium</td>\n",
       "      <td>What name represents the letter \"M\" in the NAT...</td>\n",
       "      <td>Mike</td>\n",
       "      <td>['Matthew', 'Mark', 'Max']</td>\n",
       "    </tr>\n",
       "    <tr>\n",
       "      <th>1</th>\n",
       "      <td>1</td>\n",
       "      <td>General Knowledge</td>\n",
       "      <td>multiple</td>\n",
       "      <td>easy</td>\n",
       "      <td>What does a funambulist walk on?</td>\n",
       "      <td>A Tight Rope</td>\n",
       "      <td>['Broken Glass', 'Balls', 'The Moon']</td>\n",
       "    </tr>\n",
       "    <tr>\n",
       "      <th>2</th>\n",
       "      <td>2</td>\n",
       "      <td>General Knowledge</td>\n",
       "      <td>multiple</td>\n",
       "      <td>medium</td>\n",
       "      <td>Rolex is a company that specializes in what ty...</td>\n",
       "      <td>Watches</td>\n",
       "      <td>['Cars', 'Computers', 'Sports equipment']</td>\n",
       "    </tr>\n",
       "    <tr>\n",
       "      <th>3</th>\n",
       "      <td>3</td>\n",
       "      <td>General Knowledge</td>\n",
       "      <td>multiple</td>\n",
       "      <td>easy</td>\n",
       "      <td>Area 51 is located in which US state?</td>\n",
       "      <td>Nevada</td>\n",
       "      <td>['Arizona', 'New Mexico', 'Utah']</td>\n",
       "    </tr>\n",
       "    <tr>\n",
       "      <th>4</th>\n",
       "      <td>4</td>\n",
       "      <td>General Knowledge</td>\n",
       "      <td>multiple</td>\n",
       "      <td>easy</td>\n",
       "      <td>How would one say goodbye in Spanish?</td>\n",
       "      <td>Adiós</td>\n",
       "      <td>[' Hola', 'Au Revoir', 'Salir']</td>\n",
       "    </tr>\n",
       "  </tbody>\n",
       "</table>\n",
       "</div>"
      ],
      "text/plain": [
       "   Unnamed: 0           category      type difficulty  \\\n",
       "0           0  General Knowledge  multiple     medium   \n",
       "1           1  General Knowledge  multiple       easy   \n",
       "2           2  General Knowledge  multiple     medium   \n",
       "3           3  General Knowledge  multiple       easy   \n",
       "4           4  General Knowledge  multiple       easy   \n",
       "\n",
       "                                            question correct_answer  \\\n",
       "0  What name represents the letter \"M\" in the NAT...           Mike   \n",
       "1                   What does a funambulist walk on?   A Tight Rope   \n",
       "2  Rolex is a company that specializes in what ty...        Watches   \n",
       "3              Area 51 is located in which US state?         Nevada   \n",
       "4              How would one say goodbye in Spanish?          Adiós   \n",
       "\n",
       "                           incorrect_answers  \n",
       "0                 ['Matthew', 'Mark', 'Max']  \n",
       "1      ['Broken Glass', 'Balls', 'The Moon']  \n",
       "2  ['Cars', 'Computers', 'Sports equipment']  \n",
       "3          ['Arizona', 'New Mexico', 'Utah']  \n",
       "4            [' Hola', 'Au Revoir', 'Salir']  "
      ]
     },
     "execution_count": 78,
     "metadata": {},
     "output_type": "execute_result"
    }
   ],
   "source": [
    "df.head()"
   ]
  },
  {
   "cell_type": "code",
   "execution_count": null,
   "id": "5811867b",
   "metadata": {},
   "outputs": [],
   "source": []
  },
  {
   "cell_type": "code",
   "execution_count": 86,
   "id": "054e0da4",
   "metadata": {},
   "outputs": [
    {
     "ename": "AttributeError",
     "evalue": "'str' object has no attribute 'append'",
     "output_type": "error",
     "traceback": [
      "\u001b[0;31m---------------------------------------------------------------------------\u001b[0m",
      "\u001b[0;31mAttributeError\u001b[0m                            Traceback (most recent call last)",
      "\u001b[0;32m<ipython-input-86-3f4a0a37b0ff>\u001b[0m in \u001b[0;36m<module>\u001b[0;34m\u001b[0m\n\u001b[0;32m----> 1\u001b[0;31m \u001b[0mdf\u001b[0m\u001b[0;34m[\u001b[0m\u001b[0;34m'options'\u001b[0m\u001b[0;34m]\u001b[0m \u001b[0;34m=\u001b[0m \u001b[0;34m[\u001b[0m\u001b[0mi\u001b[0m\u001b[0;34m.\u001b[0m\u001b[0mappend\u001b[0m\u001b[0;34m(\u001b[0m\u001b[0mdf\u001b[0m\u001b[0;34m[\u001b[0m\u001b[0;34m'correct_answer'\u001b[0m\u001b[0;34m]\u001b[0m\u001b[0;34m)\u001b[0m \u001b[0;32mfor\u001b[0m \u001b[0mi\u001b[0m \u001b[0;32min\u001b[0m \u001b[0mdf\u001b[0m\u001b[0;34m[\u001b[0m\u001b[0;34m'incorrect_answers'\u001b[0m\u001b[0;34m]\u001b[0m\u001b[0;34m]\u001b[0m\u001b[0;34m\u001b[0m\u001b[0;34m\u001b[0m\u001b[0m\n\u001b[0m",
      "\u001b[0;32m<ipython-input-86-3f4a0a37b0ff>\u001b[0m in \u001b[0;36m<listcomp>\u001b[0;34m(.0)\u001b[0m\n\u001b[0;32m----> 1\u001b[0;31m \u001b[0mdf\u001b[0m\u001b[0;34m[\u001b[0m\u001b[0;34m'options'\u001b[0m\u001b[0;34m]\u001b[0m \u001b[0;34m=\u001b[0m \u001b[0;34m[\u001b[0m\u001b[0mi\u001b[0m\u001b[0;34m.\u001b[0m\u001b[0mappend\u001b[0m\u001b[0;34m(\u001b[0m\u001b[0mdf\u001b[0m\u001b[0;34m[\u001b[0m\u001b[0;34m'correct_answer'\u001b[0m\u001b[0;34m]\u001b[0m\u001b[0;34m)\u001b[0m \u001b[0;32mfor\u001b[0m \u001b[0mi\u001b[0m \u001b[0;32min\u001b[0m \u001b[0mdf\u001b[0m\u001b[0;34m[\u001b[0m\u001b[0;34m'incorrect_answers'\u001b[0m\u001b[0;34m]\u001b[0m\u001b[0;34m]\u001b[0m\u001b[0;34m\u001b[0m\u001b[0;34m\u001b[0m\u001b[0m\n\u001b[0m",
      "\u001b[0;31mAttributeError\u001b[0m: 'str' object has no attribute 'append'"
     ]
    }
   ],
   "source": [
    "df['options'] = [i.append(df['correct_answer']) for i in df['incorrect_answers']]"
   ]
  },
  {
   "cell_type": "code",
   "execution_count": 87,
   "id": "287cfa4f",
   "metadata": {},
   "outputs": [
    {
     "data": {
      "text/html": [
       "<div>\n",
       "<style scoped>\n",
       "    .dataframe tbody tr th:only-of-type {\n",
       "        vertical-align: middle;\n",
       "    }\n",
       "\n",
       "    .dataframe tbody tr th {\n",
       "        vertical-align: top;\n",
       "    }\n",
       "\n",
       "    .dataframe thead th {\n",
       "        text-align: right;\n",
       "    }\n",
       "</style>\n",
       "<table border=\"1\" class=\"dataframe\">\n",
       "  <thead>\n",
       "    <tr style=\"text-align: right;\">\n",
       "      <th></th>\n",
       "      <th>Unnamed: 0</th>\n",
       "      <th>category</th>\n",
       "      <th>type</th>\n",
       "      <th>difficulty</th>\n",
       "      <th>question</th>\n",
       "      <th>correct_answer</th>\n",
       "      <th>incorrect_answers</th>\n",
       "      <th>options</th>\n",
       "    </tr>\n",
       "  </thead>\n",
       "  <tbody>\n",
       "    <tr>\n",
       "      <th>0</th>\n",
       "      <td>0</td>\n",
       "      <td>General Knowledge</td>\n",
       "      <td>multiple</td>\n",
       "      <td>medium</td>\n",
       "      <td>What name represents the letter \"M\" in the NAT...</td>\n",
       "      <td>Mike</td>\n",
       "      <td>['Matthew', 'Mark', 'Max']</td>\n",
       "      <td>0                ['Matthew', 'Mark', 'Max']Mik...</td>\n",
       "    </tr>\n",
       "    <tr>\n",
       "      <th>1</th>\n",
       "      <td>1</td>\n",
       "      <td>General Knowledge</td>\n",
       "      <td>multiple</td>\n",
       "      <td>easy</td>\n",
       "      <td>What does a funambulist walk on?</td>\n",
       "      <td>A Tight Rope</td>\n",
       "      <td>['Broken Glass', 'Balls', 'The Moon']</td>\n",
       "      <td>0              ['Broken Glass', 'Balls', 'The ...</td>\n",
       "    </tr>\n",
       "    <tr>\n",
       "      <th>2</th>\n",
       "      <td>2</td>\n",
       "      <td>General Knowledge</td>\n",
       "      <td>multiple</td>\n",
       "      <td>medium</td>\n",
       "      <td>Rolex is a company that specializes in what ty...</td>\n",
       "      <td>Watches</td>\n",
       "      <td>['Cars', 'Computers', 'Sports equipment']</td>\n",
       "      <td>0          ['Cars', 'Computers', 'Sports equip...</td>\n",
       "    </tr>\n",
       "    <tr>\n",
       "      <th>3</th>\n",
       "      <td>3</td>\n",
       "      <td>General Knowledge</td>\n",
       "      <td>multiple</td>\n",
       "      <td>easy</td>\n",
       "      <td>Area 51 is located in which US state?</td>\n",
       "      <td>Nevada</td>\n",
       "      <td>['Arizona', 'New Mexico', 'Utah']</td>\n",
       "      <td>0                ['Arizona', 'New Mexico', 'Ut...</td>\n",
       "    </tr>\n",
       "    <tr>\n",
       "      <th>4</th>\n",
       "      <td>4</td>\n",
       "      <td>General Knowledge</td>\n",
       "      <td>multiple</td>\n",
       "      <td>easy</td>\n",
       "      <td>How would one say goodbye in Spanish?</td>\n",
       "      <td>Adiós</td>\n",
       "      <td>[' Hola', 'Au Revoir', 'Salir']</td>\n",
       "      <td>0                [' Hola', 'Au Revoir', 'Salir...</td>\n",
       "    </tr>\n",
       "    <tr>\n",
       "      <th>...</th>\n",
       "      <td>...</td>\n",
       "      <td>...</td>\n",
       "      <td>...</td>\n",
       "      <td>...</td>\n",
       "      <td>...</td>\n",
       "      <td>...</td>\n",
       "      <td>...</td>\n",
       "      <td>...</td>\n",
       "    </tr>\n",
       "    <tr>\n",
       "      <th>995</th>\n",
       "      <td>995</td>\n",
       "      <td>General Knowledge</td>\n",
       "      <td>multiple</td>\n",
       "      <td>easy</td>\n",
       "      <td>The drug cartel run by Pablo Escobar originate...</td>\n",
       "      <td>Medellín</td>\n",
       "      <td>['Bogotá', 'Quito', 'Cali']</td>\n",
       "      <td>0                ['Bogotá', 'Quito', 'Cali']Mi...</td>\n",
       "    </tr>\n",
       "    <tr>\n",
       "      <th>996</th>\n",
       "      <td>996</td>\n",
       "      <td>General Knowledge</td>\n",
       "      <td>multiple</td>\n",
       "      <td>medium</td>\n",
       "      <td>Frank Lloyd Wright was the architect behind wh...</td>\n",
       "      <td>The Guggenheim</td>\n",
       "      <td>['Villa Savoye', 'Sydney Opera House', 'The Sp...</td>\n",
       "      <td>0      ['Villa Savoye', 'Sydney Opera House', ...</td>\n",
       "    </tr>\n",
       "    <tr>\n",
       "      <th>997</th>\n",
       "      <td>997</td>\n",
       "      <td>General Knowledge</td>\n",
       "      <td>multiple</td>\n",
       "      <td>easy</td>\n",
       "      <td>What is the French word for \"fish\"?</td>\n",
       "      <td>poisson</td>\n",
       "      <td>['fiche', 'escargot', 'mer']</td>\n",
       "      <td>0                ['fiche', 'escargot', 'mer']M...</td>\n",
       "    </tr>\n",
       "    <tr>\n",
       "      <th>998</th>\n",
       "      <td>998</td>\n",
       "      <td>General Knowledge</td>\n",
       "      <td>multiple</td>\n",
       "      <td>medium</td>\n",
       "      <td>What fast food chain has the most locations gl...</td>\n",
       "      <td>Subway</td>\n",
       "      <td>['Starbucks', 'McDonalds', 'KFC']</td>\n",
       "      <td>0                ['Starbucks', 'McDonalds', 'K...</td>\n",
       "    </tr>\n",
       "    <tr>\n",
       "      <th>999</th>\n",
       "      <td>999</td>\n",
       "      <td>General Knowledge</td>\n",
       "      <td>multiple</td>\n",
       "      <td>easy</td>\n",
       "      <td>What kind of aircraft was developed by Igor Si...</td>\n",
       "      <td>Helicopter</td>\n",
       "      <td>['Stealth Blimp', 'Jet', 'Space Capsule']</td>\n",
       "      <td>0          ['Stealth Blimp', 'Jet', 'Space Cap...</td>\n",
       "    </tr>\n",
       "  </tbody>\n",
       "</table>\n",
       "<p>1000 rows × 8 columns</p>\n",
       "</div>"
      ],
      "text/plain": [
       "     Unnamed: 0           category      type difficulty  \\\n",
       "0             0  General Knowledge  multiple     medium   \n",
       "1             1  General Knowledge  multiple       easy   \n",
       "2             2  General Knowledge  multiple     medium   \n",
       "3             3  General Knowledge  multiple       easy   \n",
       "4             4  General Knowledge  multiple       easy   \n",
       "..          ...                ...       ...        ...   \n",
       "995         995  General Knowledge  multiple       easy   \n",
       "996         996  General Knowledge  multiple     medium   \n",
       "997         997  General Knowledge  multiple       easy   \n",
       "998         998  General Knowledge  multiple     medium   \n",
       "999         999  General Knowledge  multiple       easy   \n",
       "\n",
       "                                              question  correct_answer  \\\n",
       "0    What name represents the letter \"M\" in the NAT...            Mike   \n",
       "1                     What does a funambulist walk on?    A Tight Rope   \n",
       "2    Rolex is a company that specializes in what ty...         Watches   \n",
       "3                Area 51 is located in which US state?          Nevada   \n",
       "4                How would one say goodbye in Spanish?           Adiós   \n",
       "..                                                 ...             ...   \n",
       "995  The drug cartel run by Pablo Escobar originate...        Medellín   \n",
       "996  Frank Lloyd Wright was the architect behind wh...  The Guggenheim   \n",
       "997                What is the French word for \"fish\"?         poisson   \n",
       "998  What fast food chain has the most locations gl...          Subway   \n",
       "999  What kind of aircraft was developed by Igor Si...      Helicopter   \n",
       "\n",
       "                                     incorrect_answers  \\\n",
       "0                           ['Matthew', 'Mark', 'Max']   \n",
       "1                ['Broken Glass', 'Balls', 'The Moon']   \n",
       "2            ['Cars', 'Computers', 'Sports equipment']   \n",
       "3                    ['Arizona', 'New Mexico', 'Utah']   \n",
       "4                      [' Hola', 'Au Revoir', 'Salir']   \n",
       "..                                                 ...   \n",
       "995                        ['Bogotá', 'Quito', 'Cali']   \n",
       "996  ['Villa Savoye', 'Sydney Opera House', 'The Sp...   \n",
       "997                       ['fiche', 'escargot', 'mer']   \n",
       "998                  ['Starbucks', 'McDonalds', 'KFC']   \n",
       "999          ['Stealth Blimp', 'Jet', 'Space Capsule']   \n",
       "\n",
       "                                               options  \n",
       "0    0                ['Matthew', 'Mark', 'Max']Mik...  \n",
       "1    0              ['Broken Glass', 'Balls', 'The ...  \n",
       "2    0          ['Cars', 'Computers', 'Sports equip...  \n",
       "3    0                ['Arizona', 'New Mexico', 'Ut...  \n",
       "4    0                [' Hola', 'Au Revoir', 'Salir...  \n",
       "..                                                 ...  \n",
       "995  0                ['Bogotá', 'Quito', 'Cali']Mi...  \n",
       "996  0      ['Villa Savoye', 'Sydney Opera House', ...  \n",
       "997  0                ['fiche', 'escargot', 'mer']M...  \n",
       "998  0                ['Starbucks', 'McDonalds', 'K...  \n",
       "999  0          ['Stealth Blimp', 'Jet', 'Space Cap...  \n",
       "\n",
       "[1000 rows x 8 columns]"
      ]
     },
     "execution_count": 87,
     "metadata": {},
     "output_type": "execute_result"
    }
   ],
   "source": [
    "df"
   ]
  },
  {
   "cell_type": "code",
   "execution_count": 58,
   "id": "7825c366",
   "metadata": {},
   "outputs": [
    {
     "data": {
      "text/plain": [
       "medium    380\n",
       "easy      356\n",
       "hard      264\n",
       "Name: difficulty, dtype: int64"
      ]
     },
     "execution_count": 58,
     "metadata": {},
     "output_type": "execute_result"
    }
   ],
   "source": [
    "df['difficulty'].value_counts()"
   ]
  },
  {
   "cell_type": "code",
   "execution_count": 60,
   "id": "bce4a1ff",
   "metadata": {},
   "outputs": [
    {
     "name": "stdout",
     "output_type": "stream",
     "text": [
      " Choose a dificultyeasy\n"
     ]
    }
   ],
   "source": [
    "a = input(' Choose a dificulty ')"
   ]
  },
  {
   "cell_type": "code",
   "execution_count": 61,
   "id": "ee598c19",
   "metadata": {},
   "outputs": [],
   "source": [
    "if a == 'easy':\n",
    "    df = df[df['difficulty'] == 'easy']\n",
    "elif a == 'medium':\n",
    "    df = df[df['difficulty'] == 'medium']\n",
    "elif a == 'hard':\n",
    "    df = df[df['difficulty'] == 'hard']"
   ]
  },
  {
   "cell_type": "code",
   "execution_count": 62,
   "id": "4b8a1404",
   "metadata": {},
   "outputs": [
    {
     "data": {
      "text/html": [
       "<div>\n",
       "<style scoped>\n",
       "    .dataframe tbody tr th:only-of-type {\n",
       "        vertical-align: middle;\n",
       "    }\n",
       "\n",
       "    .dataframe tbody tr th {\n",
       "        vertical-align: top;\n",
       "    }\n",
       "\n",
       "    .dataframe thead th {\n",
       "        text-align: right;\n",
       "    }\n",
       "</style>\n",
       "<table border=\"1\" class=\"dataframe\">\n",
       "  <thead>\n",
       "    <tr style=\"text-align: right;\">\n",
       "      <th></th>\n",
       "      <th>Unnamed: 0</th>\n",
       "      <th>category</th>\n",
       "      <th>type</th>\n",
       "      <th>difficulty</th>\n",
       "      <th>question</th>\n",
       "      <th>correct_answer</th>\n",
       "      <th>incorrect_answers</th>\n",
       "    </tr>\n",
       "  </thead>\n",
       "  <tbody>\n",
       "    <tr>\n",
       "      <th>1</th>\n",
       "      <td>1</td>\n",
       "      <td>General Knowledge</td>\n",
       "      <td>multiple</td>\n",
       "      <td>easy</td>\n",
       "      <td>What does a funambulist walk on?</td>\n",
       "      <td>A Tight Rope</td>\n",
       "      <td>['Broken Glass', 'Balls', 'The Moon']</td>\n",
       "    </tr>\n",
       "    <tr>\n",
       "      <th>3</th>\n",
       "      <td>3</td>\n",
       "      <td>General Knowledge</td>\n",
       "      <td>multiple</td>\n",
       "      <td>easy</td>\n",
       "      <td>Area 51 is located in which US state?</td>\n",
       "      <td>Nevada</td>\n",
       "      <td>['Arizona', 'New Mexico', 'Utah']</td>\n",
       "    </tr>\n",
       "    <tr>\n",
       "      <th>4</th>\n",
       "      <td>4</td>\n",
       "      <td>General Knowledge</td>\n",
       "      <td>multiple</td>\n",
       "      <td>easy</td>\n",
       "      <td>How would one say goodbye in Spanish?</td>\n",
       "      <td>Adiós</td>\n",
       "      <td>[' Hola', 'Au Revoir', 'Salir']</td>\n",
       "    </tr>\n",
       "    <tr>\n",
       "      <th>5</th>\n",
       "      <td>5</td>\n",
       "      <td>General Knowledge</td>\n",
       "      <td>multiple</td>\n",
       "      <td>easy</td>\n",
       "      <td>What is the largest organ of the human body?</td>\n",
       "      <td>Skin</td>\n",
       "      <td>['Heart', 'large Intestine', 'Liver']</td>\n",
       "    </tr>\n",
       "    <tr>\n",
       "      <th>7</th>\n",
       "      <td>7</td>\n",
       "      <td>General Knowledge</td>\n",
       "      <td>multiple</td>\n",
       "      <td>easy</td>\n",
       "      <td>On a dartboard, what number is directly opposi...</td>\n",
       "      <td>19</td>\n",
       "      <td>['20', '12', '15']</td>\n",
       "    </tr>\n",
       "  </tbody>\n",
       "</table>\n",
       "</div>"
      ],
      "text/plain": [
       "   Unnamed: 0           category      type difficulty  \\\n",
       "1           1  General Knowledge  multiple       easy   \n",
       "3           3  General Knowledge  multiple       easy   \n",
       "4           4  General Knowledge  multiple       easy   \n",
       "5           5  General Knowledge  multiple       easy   \n",
       "7           7  General Knowledge  multiple       easy   \n",
       "\n",
       "                                            question correct_answer  \\\n",
       "1                   What does a funambulist walk on?   A Tight Rope   \n",
       "3              Area 51 is located in which US state?         Nevada   \n",
       "4              How would one say goodbye in Spanish?          Adiós   \n",
       "5       What is the largest organ of the human body?           Skin   \n",
       "7  On a dartboard, what number is directly opposi...             19   \n",
       "\n",
       "                       incorrect_answers  \n",
       "1  ['Broken Glass', 'Balls', 'The Moon']  \n",
       "3      ['Arizona', 'New Mexico', 'Utah']  \n",
       "4        [' Hola', 'Au Revoir', 'Salir']  \n",
       "5  ['Heart', 'large Intestine', 'Liver']  \n",
       "7                     ['20', '12', '15']  "
      ]
     },
     "execution_count": 62,
     "metadata": {},
     "output_type": "execute_result"
    }
   ],
   "source": [
    "df.head()"
   ]
  },
  {
   "cell_type": "code",
   "execution_count": 63,
   "id": "6e04c82f",
   "metadata": {},
   "outputs": [
    {
     "data": {
      "text/plain": [
       "(356, 7)"
      ]
     },
     "execution_count": 63,
     "metadata": {},
     "output_type": "execute_result"
    }
   ],
   "source": [
    "df.shape"
   ]
  },
  {
   "cell_type": "code",
   "execution_count": 64,
   "id": "bd2c6260",
   "metadata": {},
   "outputs": [
    {
     "data": {
      "text/html": [
       "<div>\n",
       "<style scoped>\n",
       "    .dataframe tbody tr th:only-of-type {\n",
       "        vertical-align: middle;\n",
       "    }\n",
       "\n",
       "    .dataframe tbody tr th {\n",
       "        vertical-align: top;\n",
       "    }\n",
       "\n",
       "    .dataframe thead th {\n",
       "        text-align: right;\n",
       "    }\n",
       "</style>\n",
       "<table border=\"1\" class=\"dataframe\">\n",
       "  <thead>\n",
       "    <tr style=\"text-align: right;\">\n",
       "      <th></th>\n",
       "      <th>Unnamed: 0</th>\n",
       "      <th>category</th>\n",
       "      <th>type</th>\n",
       "      <th>difficulty</th>\n",
       "      <th>question</th>\n",
       "      <th>correct_answer</th>\n",
       "      <th>incorrect_answers</th>\n",
       "    </tr>\n",
       "  </thead>\n",
       "  <tbody>\n",
       "    <tr>\n",
       "      <th>816</th>\n",
       "      <td>816</td>\n",
       "      <td>General Knowledge</td>\n",
       "      <td>multiple</td>\n",
       "      <td>easy</td>\n",
       "      <td>What is the French word for \"hat\"?</td>\n",
       "      <td>Chapeau</td>\n",
       "      <td>['Bonnet', ' Écharpe', ' Casque']</td>\n",
       "    </tr>\n",
       "  </tbody>\n",
       "</table>\n",
       "</div>"
      ],
      "text/plain": [
       "     Unnamed: 0           category      type difficulty  \\\n",
       "816         816  General Knowledge  multiple       easy   \n",
       "\n",
       "                               question correct_answer  \\\n",
       "816  What is the French word for \"hat\"?        Chapeau   \n",
       "\n",
       "                     incorrect_answers  \n",
       "816  ['Bonnet', ' Écharpe', ' Casque']  "
      ]
     },
     "execution_count": 64,
     "metadata": {},
     "output_type": "execute_result"
    }
   ],
   "source": [
    "puntos = 0\n",
    "num = 15\n",
    "\n",
    "\n",
    "df_sample = df.sample()\n",
    "#print(q)\n",
    "df_sample"
   ]
  },
  {
   "cell_type": "code",
   "execution_count": 65,
   "id": "c74e4e4b",
   "metadata": {},
   "outputs": [
    {
     "name": "stdout",
     "output_type": "stream",
     "text": [
      "What is the French word for \"hat\"?\n"
     ]
    }
   ],
   "source": [
    "for i in df_sample['question']:\n",
    "    print(i)"
   ]
  },
  {
   "cell_type": "code",
   "execution_count": 66,
   "id": "5cf7b1e0",
   "metadata": {},
   "outputs": [
    {
     "name": "stdout",
     "output_type": "stream",
     "text": [
      "Give your answerchapeau\n"
     ]
    }
   ],
   "source": [
    "answer_player = input('Give your answer')"
   ]
  },
  {
   "cell_type": "code",
   "execution_count": 67,
   "id": "efea5211",
   "metadata": {},
   "outputs": [
    {
     "data": {
      "text/plain": [
       "816    ['Bonnet', ' Écharpe', ' Casque']\n",
       "Name: incorrect_answers, dtype: object"
      ]
     },
     "execution_count": 67,
     "metadata": {},
     "output_type": "execute_result"
    }
   ],
   "source": [
    "df_sample['incorrect_answers']"
   ]
  },
  {
   "cell_type": "code",
   "execution_count": 68,
   "id": "bfcf0592",
   "metadata": {
    "scrolled": true
   },
   "outputs": [
    {
     "name": "stdout",
     "output_type": "stream",
     "text": [
      "What is the French word for \"hat\"?\n"
     ]
    }
   ],
   "source": [
    "for k in df_sample['incorrect_answers']:\n",
    "    print(i)"
   ]
  },
  {
   "cell_type": "code",
   "execution_count": 70,
   "id": "e39d27bc",
   "metadata": {},
   "outputs": [
    {
     "ename": "ValueError",
     "evalue": "The truth value of a DataFrame is ambiguous. Use a.empty, a.bool(), a.item(), a.any() or a.all().",
     "output_type": "error",
     "traceback": [
      "\u001b[0;31m---------------------------------------------------------------------------\u001b[0m",
      "\u001b[0;31mValueError\u001b[0m                                Traceback (most recent call last)",
      "\u001b[0;32m<ipython-input-70-6aabf4a3dc07>\u001b[0m in \u001b[0;36m<module>\u001b[0;34m\u001b[0m\n\u001b[0;32m----> 1\u001b[0;31m \u001b[0;32mif\u001b[0m \u001b[0mdf_sample\u001b[0m\u001b[0;34m[\u001b[0m\u001b[0mdf_sample\u001b[0m\u001b[0;34m[\u001b[0m\u001b[0;34m'incorrect_answers'\u001b[0m\u001b[0;34m]\u001b[0m \u001b[0;34m==\u001b[0m \u001b[0manswer_player\u001b[0m\u001b[0;34m.\u001b[0m\u001b[0mcapitalize\u001b[0m\u001b[0;34m(\u001b[0m\u001b[0;34m)\u001b[0m\u001b[0;34m]\u001b[0m\u001b[0;34m:\u001b[0m\u001b[0;34m\u001b[0m\u001b[0;34m\u001b[0m\u001b[0m\n\u001b[0m\u001b[1;32m      2\u001b[0m     \u001b[0;31m#if answer_player.capitalize == i:\u001b[0m\u001b[0;34m\u001b[0m\u001b[0;34m\u001b[0m\u001b[0;34m\u001b[0m\u001b[0m\n\u001b[1;32m      3\u001b[0m     \u001b[0mprint\u001b[0m\u001b[0;34m(\u001b[0m\u001b[0;34m'sorry, your answer is not correct'\u001b[0m\u001b[0;34m)\u001b[0m\u001b[0;34m\u001b[0m\u001b[0;34m\u001b[0m\u001b[0m\n\u001b[1;32m      4\u001b[0m     \u001b[0mprint\u001b[0m\u001b[0;34m(\u001b[0m\u001b[0;34m'The correct answer was '\u001b[0m\u001b[0;34m+\u001b[0m \u001b[0mdf\u001b[0m\u001b[0;34m[\u001b[0m\u001b[0;34m'correct_answer'\u001b[0m\u001b[0;34m]\u001b[0m\u001b[0;34m)\u001b[0m\u001b[0;34m\u001b[0m\u001b[0;34m\u001b[0m\u001b[0m\n\u001b[1;32m      5\u001b[0m \u001b[0;34m\u001b[0m\u001b[0m\n",
      "\u001b[0;32m~/anaconda3/lib/python3.8/site-packages/pandas/core/generic.py\u001b[0m in \u001b[0;36m__nonzero__\u001b[0;34m(self)\u001b[0m\n\u001b[1;32m   1440\u001b[0m     \u001b[0;34m@\u001b[0m\u001b[0mfinal\u001b[0m\u001b[0;34m\u001b[0m\u001b[0;34m\u001b[0m\u001b[0m\n\u001b[1;32m   1441\u001b[0m     \u001b[0;32mdef\u001b[0m \u001b[0m__nonzero__\u001b[0m\u001b[0;34m(\u001b[0m\u001b[0mself\u001b[0m\u001b[0;34m)\u001b[0m\u001b[0;34m:\u001b[0m\u001b[0;34m\u001b[0m\u001b[0;34m\u001b[0m\u001b[0m\n\u001b[0;32m-> 1442\u001b[0;31m         raise ValueError(\n\u001b[0m\u001b[1;32m   1443\u001b[0m             \u001b[0;34mf\"The truth value of a {type(self).__name__} is ambiguous. \"\u001b[0m\u001b[0;34m\u001b[0m\u001b[0;34m\u001b[0m\u001b[0m\n\u001b[1;32m   1444\u001b[0m             \u001b[0;34m\"Use a.empty, a.bool(), a.item(), a.any() or a.all().\"\u001b[0m\u001b[0;34m\u001b[0m\u001b[0;34m\u001b[0m\u001b[0m\n",
      "\u001b[0;31mValueError\u001b[0m: The truth value of a DataFrame is ambiguous. Use a.empty, a.bool(), a.item(), a.any() or a.all()."
     ]
    }
   ],
   "source": [
    "if df_sample[df_sample['incorrect_answers'] == answer_player.capitalize()]:\n",
    "    #if answer_player.capitalize == i:\n",
    "    print('sorry, your answer is not correct')\n",
    "    print('The correct answer was '+ df['correct_answer'])\n",
    "        \n",
    "#elif answer_player.capitalize == df_sample['correct_answer']:\n",
    " #   print('you get the right answer')\n",
    "        "
   ]
  },
  {
   "cell_type": "code",
   "execution_count": null,
   "id": "2d3cd964",
   "metadata": {},
   "outputs": [],
   "source": [
    "with open('questions.csv', 'r') as f:\n",
    "    "
   ]
  }
 ],
 "metadata": {
  "kernelspec": {
   "display_name": "Python 3",
   "language": "python",
   "name": "python3"
  },
  "language_info": {
   "codemirror_mode": {
    "name": "ipython",
    "version": 3
   },
   "file_extension": ".py",
   "mimetype": "text/x-python",
   "name": "python",
   "nbconvert_exporter": "python",
   "pygments_lexer": "ipython3",
   "version": "3.8.8"
  }
 },
 "nbformat": 4,
 "nbformat_minor": 5
}
